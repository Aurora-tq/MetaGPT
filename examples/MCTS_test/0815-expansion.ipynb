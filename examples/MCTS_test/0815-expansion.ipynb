{
 "cells": [
  {
   "cell_type": "code",
   "execution_count": 2,
   "metadata": {},
   "outputs": [],
   "source": [
    "%load_ext autoreload\n",
    "%autoreload 2"
   ]
  },
  {
   "cell_type": "code",
   "execution_count": 3,
   "metadata": {},
   "outputs": [
    {
     "name": "stderr",
     "output_type": "stream",
     "text": [
      "2024-08-16 12:13:24.245 | INFO     | metagpt.const:get_metagpt_package_root:29 - Package root set to d:\\work\\mg-open\\metagpt\n"
     ]
    },
    {
     "name": "stdout",
     "output_type": "stream",
     "text": [
      "Initializing plan and tool...\n"
     ]
    }
   ],
   "source": [
    "from examples.MCTS_test.MCTS import MCTS, Node, initialize_di_root_node\n",
    "from examples.MCTS_test.utils import load_data_config, generate_task_requirement\n",
    "import asyncio\n",
    "\n",
    "data_config = load_data_config()\n",
    "\n",
    "\n",
    "requirement = generate_task_requirement(\"house_prices\", data_config)\n",
    "\n",
    "role, root_node = initialize_di_root_node(requirement, data_config)\n"
   ]
  },
  {
   "cell_type": "code",
   "execution_count": 4,
   "metadata": {},
   "outputs": [
    {
     "name": "stdout",
     "output_type": "stream",
     "text": [
      "Plan already exists, skipping initialization.\n"
     ]
    }
   ],
   "source": [
    "role = root_node.load_node()"
   ]
  },
  {
   "cell_type": "code",
   "execution_count": 5,
   "metadata": {},
   "outputs": [
    {
     "name": "stdout",
     "output_type": "stream",
     "text": [
      "Perform exploratory data analysis on the training dataset\n",
      "Preprocess the training dataset to handle missing values, outliers, and categorical variables\n",
      "Engineer features to create new columns that may improve model performance\n",
      "Train a regression model using the preprocessed and feature-engineered training dataset\n",
      "Evaluate the trained model on the eval dataset and report RMSE between the logarithm of the predicted value and the logarithm of the observed sale prices\n"
     ]
    }
   ],
   "source": [
    "for task in role.planner.plan.tasks:\n",
    "    print(task.instruction)\n"
   ]
  },
  {
   "cell_type": "code",
   "execution_count": null,
   "metadata": {},
   "outputs": [],
   "source": []
  }
 ],
 "metadata": {
  "kernelspec": {
   "display_name": "mg",
   "language": "python",
   "name": "python3"
  },
  "language_info": {
   "codemirror_mode": {
    "name": "ipython",
    "version": 3
   },
   "file_extension": ".py",
   "mimetype": "text/x-python",
   "name": "python",
   "nbconvert_exporter": "python",
   "pygments_lexer": "ipython3",
   "version": "3.10.14"
  }
 },
 "nbformat": 4,
 "nbformat_minor": 2
}
