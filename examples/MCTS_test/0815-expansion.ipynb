{
 "cells": [
  {
   "cell_type": "code",
   "execution_count": 1,
   "metadata": {},
   "outputs": [],
   "source": [
    "%load_ext autoreload\n",
    "%autoreload 2"
   ]
  },
  {
   "cell_type": "code",
   "execution_count": 2,
   "metadata": {},
   "outputs": [
    {
     "name": "stderr",
     "output_type": "stream",
     "text": [
      "2024-08-15 17:15:25.080 | INFO     | metagpt.const:get_metagpt_package_root:29 - Package root set to d:\\work\\mg-open\\metagpt\n"
     ]
    },
    {
     "name": "stdout",
     "output_type": "stream",
     "text": [
      "Initializing plan and tool...\n"
     ]
    }
   ],
   "source": [
    "from examples.MCTS_test.MCTS import MCTS, Node, initialize_di_root_node\n",
    "from examples.MCTS_test.utils import load_data_config, generate_task_requirement\n",
    "import asyncio\n",
    "\n",
    "data_config = load_data_config()\n",
    "\n",
    "\n",
    "requirement = generate_task_requirement(\"house_prices\", data_config)\n",
    "\n",
    "role, root_node = initialize_di_root_node(requirement, data_config)\n"
   ]
  },
  {
   "cell_type": "code",
   "execution_count": 3,
   "metadata": {},
   "outputs": [
    {
     "name": "stdout",
     "output_type": "stream",
     "text": [
      "Plan already exists, skipping initialization.\n"
     ]
    }
   ],
   "source": [
    "role = root_node.load_node()"
   ]
  },
  {
   "cell_type": "code",
   "execution_count": 8,
   "metadata": {},
   "outputs": [
    {
     "data": {
      "text/plain": [
       "'Preprocess the training dataset to handle missing values, outliers, and categorical variables'"
      ]
     },
     "execution_count": 8,
     "metadata": {},
     "output_type": "execute_result"
    }
   ],
   "source": [
    "role.planner.plan.tasks[1].instruction"
   ]
  },
  {
   "cell_type": "code",
   "execution_count": null,
   "metadata": {},
   "outputs": [],
   "source": []
  }
 ],
 "metadata": {
  "kernelspec": {
   "display_name": "mg",
   "language": "python",
   "name": "python3"
  },
  "language_info": {
   "codemirror_mode": {
    "name": "ipython",
    "version": 3
   },
   "file_extension": ".py",
   "mimetype": "text/x-python",
   "name": "python",
   "nbconvert_exporter": "python",
   "pygments_lexer": "ipython3",
   "version": "3.10.14"
  }
 },
 "nbformat": 4,
 "nbformat_minor": 2
}
